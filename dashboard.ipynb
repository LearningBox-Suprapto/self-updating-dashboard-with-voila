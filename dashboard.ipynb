{
 "cells": [
  {
   "cell_type": "code",
   "execution_count": 0,
   "metadata": {},
   "outputs": [],
   "source": [
    "import asyncio\n",
    "\n",
    "%matplotlib widget\n",
    "import ipympl\n",
    "\n",
    "import matplotlib.pyplot as plt\n",
    "import pandas as pd\n",
    "import requests\n",
    "import json\n",
    "\n",
    "\n",
    "SLEEP = 0.5"
   ]
  },
  {
   "cell_type": "code",
   "execution_count": 0,
   "metadata": {},
   "outputs": [],
   "source": [
    "def get_api_data():\n",
    "    try:\n",
    "        r = requests.get(\"http://127.0.0.1:9999/api\")\n",
    "        return json.loads(r.text)\n",
    "    except:\n",
    "        raise Exception(\"Could not connect to the API server!\")"
   ]
  },
  {
   "cell_type": "code",
   "execution_count": 0,
   "metadata": {},
   "outputs": [
    {
     "data": {
      "application/vnd.jupyter.widget-view+json": {
       "model_id": "2ff4c6ed411c49cf9e09b847412025ac",
       "version_major": 2,
       "version_minor": 0
      },
      "text/plain": [
       "Canvas(toolbar=Toolbar(toolitems=[('Home', 'Reset original view', 'home', 'home'), ('Back', 'Back to previous …"
      ]
     },
     "metadata": {},
     "output_type": "display_data"
    },
    {
     "data": {
      "text/plain": [
       "<Task pending coro=<do() running at <ipython-input-4-27831e97e6cd>:12>>"
      ]
     },
     "execution_count": 0,
     "metadata": {},
     "output_type": "execute_result"
    }
   ],
   "source": [
    "all_tasks = asyncio.all_tasks()\n",
    "for task in all_tasks:\n",
    "    task.cancel()\n",
    "\n",
    "\n",
    "fig1, axes1 = plt.subplots()\n",
    "fig1.suptitle(\"Self-updating API data\", fontsize=20)\n",
    "plt.show(fig1)\n",
    "axes1.cla()\n",
    "\n",
    "\n",
    "async def do():\n",
    "    while True:\n",
    "        api_data = get_api_data()\n",
    "        data1 = pd.DataFrame(api_data, columns=['horizontal','vertical'])\n",
    "        axes1.cla()\n",
    "        data1.plot(kind=\"scatter\", x='horizontal', y='vertical', ax=axes1)\n",
    "        plt.draw()\n",
    "        await asyncio.sleep(SLEEP)\n",
    "\n",
    "asyncio.create_task(do())"
   ]
  }
 ],
 "metadata": {
  "kernelspec": {
   "display_name": "Python 3",
   "language": "python",
   "name": "python3"
  },
  "language_info": {
   "codemirror_mode": {
    "name": "ipython",
    "version": 3
   },
   "file_extension": ".py",
   "mimetype": "text/x-python",
   "name": "python",
   "nbconvert_exporter": "python",
   "pygments_lexer": "ipython3",
   "version": "3.7.4"
  }
 },
 "nbformat": 4,
 "nbformat_minor": 4
}
